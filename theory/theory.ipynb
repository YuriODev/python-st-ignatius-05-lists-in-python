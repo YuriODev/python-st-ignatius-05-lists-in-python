{
    "cells": [
        {
            "cell_type": "markdown",
            "metadata": {},
            "source": [
                "# 1. Working with Lists in Python 📘\n",
                "\n",
                "Welcome to a comprehensive module of our Python Programming Course dedicated to exploring Lists, Tuples, and Sets. This module aims to equip you with the knowledge to manipulate these foundational data structures, each serving unique purposes in Python programming. We'll dive into their methods, special functions, and the critical differences among them, such as immutability.\n",
                "\n",
                "## What's Covered in This Module 📋\n",
                "\n",
                "- **Introduction to Lists** 📝:\n",
                "  - **Creating and Accessing Lists**: Basics of list creation and element access.\n",
                "  - **List Operations**: Including concatenation, repetition, and membership testing.\n",
                "- **List Methods and Functions** 🔧:\n",
                "  - **Modifying Lists**: Methods like `.append()`, `.extend()`, `.insert()`, and `.remove()`.\n",
                "  - **Organizing Lists**: Understanding the difference between `.sort()` method and `sorted()` function, and using `.reverse()` and `reversed()`.\n",
                "  - **Searching in Lists**: Using `.index()` and `.count()` for element lookup and count, `in` operator, and `len()` function.\n",
                "  - **Iterating Over Lists**: Using `for` loops.\n",
                "  - **List Comprehension**: Simplifying list creation with concise syntax.\n",
                "- **Tuples and Immutability** 🔒:\n",
                "  - **Using Tuples**: Creating and accessing tuple elements.\n",
                "  - **Immutability Explained**: Why tuples are immutable and how this affects their usage.\n",
                "- **Sets and Operations** 🛠️:\n",
                "  - **Introduction to Sets**: Creating sets and using set operations like union, intersection, and difference.\n",
                "  - **Set Methods**: Including `.add()`, `.remove()`, and methods for set comparison.\n",
                "- **Nested Lists and 2D Lists** 📦:\n",
                "  - **Creating and Accessing Nested Lists**: Working with lists within lists, including 2D lists for matrices or tables.\n",
                "- **Advanced Topics** 🌟:\n",
                "  - **Splitting and Joining Strings**: Using `.split()` and `.join()` to convert between strings and lists.\n",
                "  - **List Copying**: Understanding shallow and deep copying.\n",
                "  - **List Unpacking**: Using the `*` operator to unpack lists.\n",
                "  - **List Slicing**: Accessing subparts of lists with slicing.\n",
                "  - **List vs. Tuple vs. Set**: Key differences and when to use each.\n",
                "  - **Performance Considerations**: Tips for optimizing list, tuple, and set usage.\n",
                "\n",
                "By the end of this module, you'll have a deep understanding of how to work efficiently with lists, tuples, and sets in Python. You'll know how to choose the right data structure for your needs, perform complex manipulations, and leverage Python's powerful list comprehension and nested list capabilities to write clean, efficient, and Pythonic code. Let's dive into the versatile world of Python collections and master their use in your programming projects! 🚀\n"
            ]
        },
        {
            "cell_type": "markdown",
            "metadata": {},
            "source": [
                "# 2. Introduction to Lists 📝"
            ]
        },
        {
            "cell_type": "markdown",
            "metadata": {},
            "source": [
                "## Creating and Accessing Lists\n",
                "\n",
                "Lists in Python are ordered collections that can hold a variety of object types. They are created by placing elements inside square brackets `[]`, separated by commas. Lists are mutable, allowing modification after creation."
            ]
        },
        {
            "cell_type": "markdown",
            "metadata": {},
            "source": [
                "### Creating a List  using `[]` and `list()` function\n",
                "To create a list, you place all the items (elements) inside square brackets `[]`, separated by commas. It can have any number of items, and they may be of different types (integer, float, string, etc.).\n"
            ]
        },
        {
            "cell_type": "code",
            "execution_count": 1,
            "metadata": {},
            "outputs": [
                {
                    "name": "stdout",
                    "output_type": "stream",
                    "text": [
                        "List of numbers: [1, 2, 3, 4, 5]\n"
                    ]
                }
            ],
            "source": [
                "# Creating a list of integers\n",
                "numbers = [1, 2, 3, 4, 5]\n",
                "print(\"List of numbers:\", numbers)"
            ]
        },
        {
            "cell_type": "code",
            "execution_count": 2,
            "metadata": {},
            "outputs": [
                {
                    "name": "stdout",
                    "output_type": "stream",
                    "text": [
                        "Mixed type list: [1, 'Hello', 3.4]\n"
                    ]
                }
            ],
            "source": [
                "# Creating a list of mixed types\n",
                "mixed_list = [1, \"Hello\", 3.4]\n",
                "print(\"Mixed type list:\", mixed_list)"
            ]
        },
        {
            "cell_type": "code",
            "execution_count": 3,
            "metadata": {},
            "outputs": [
                {
                    "name": "stdout",
                    "output_type": "stream",
                    "text": [
                        "List of lists: [[1, 2, 3], [4, 5, 6], [7, 8, 9]]\n"
                    ]
                }
            ],
            "source": [
                "# Create a list of lists\n",
                "list_of_lists = [[1, 2, 3], [4, 5, 6], [7, 8, 9]]\n",
                "print(\"List of lists:\", list_of_lists)"
            ]
        },
        {
            "cell_type": "code",
            "execution_count": 4,
            "metadata": {},
            "outputs": [
                {
                    "name": "stdout",
                    "output_type": "stream",
                    "text": [
                        "List from string: ['H', 'e', 'l', 'l', 'o']\n"
                    ]
                }
            ],
            "source": [
                "# Create a list using the list() constructor of a string\n",
                "string = \"Hello\"\n",
                "list_from_string = list(string)\n",
                "print(\"List from string:\", list_from_string)"
            ]
        },
        {
            "cell_type": "code",
            "execution_count": 33,
            "metadata": {},
            "outputs": [
                {
                    "name": "stdout",
                    "output_type": "stream",
                    "text": [
                        "List from range: [0, 1, 2, 3, 4, 5, 6, 7, 8, 9]\n"
                    ]
                }
            ],
            "source": [
                "# Create a list using the list() constructor of a range\n",
                "range_list = list(range(10))\n",
                "print(\"List from range:\", range_list)"
            ]
        },
        {
            "cell_type": "markdown",
            "metadata": {},
            "source": [
                "`list()` function can also be used to create a list from an iterable (like a string, range, tuple, etc.) or to create an empty list. If you don't pass any argument to `list()`, it returns an empty list. "
            ]
        },
        {
            "cell_type": "markdown",
            "metadata": {},
            "source": [
                "### Accessing List Elements\n",
                "You can access elements of a list by referring to the index number, inside square brackets. Remember, Python indexing starts at 0.\n"
            ]
        },
        {
            "cell_type": "code",
            "execution_count": 5,
            "metadata": {},
            "outputs": [
                {
                    "name": "stdout",
                    "output_type": "stream",
                    "text": [
                        "First element: 1\n"
                    ]
                }
            ],
            "source": [
                "# Accessing the first element\n",
                "print(\"First element:\", numbers[0])"
            ]
        },
        {
            "cell_type": "code",
            "execution_count": 6,
            "metadata": {},
            "outputs": [
                {
                    "name": "stdout",
                    "output_type": "stream",
                    "text": [
                        "Third element: 3\n"
                    ]
                }
            ],
            "source": [
                "# Accessing the third element\n",
                "print(\"Third element:\", numbers[2])"
            ]
        },
        {
            "cell_type": "code",
            "execution_count": 7,
            "metadata": {},
            "outputs": [
                {
                    "name": "stdout",
                    "output_type": "stream",
                    "text": [
                        "Last element using negative indexing: 5\n"
                    ]
                }
            ],
            "source": [
                "# Negative indexing\n",
                "print(\"Last element using negative indexing:\", numbers[-1])"
            ]
        },
        {
            "cell_type": "markdown",
            "metadata": {},
            "source": [
                "## List Operations\n",
                "\n",
                "Lists support operations like concatenation, repetition, and membership testing, which allow you to combine, repeat, or check the presence of elements in a simple and intuitive way."
            ]
        },
        {
            "cell_type": "markdown",
            "metadata": {},
            "source": [
                "You can perform the following operations on lists:\n",
                "1. **Concatenation**: Use the `+` operator to combine two or more lists.\n",
                "2. **Repetition**: Use the `*` operator to repeat a list a certain number of times.\n",
                "3. **Membership Testing**: Use the `in` and `not in` operators to check if an element is present in the list.\n",
                "\n",
                "Let's explore these concepts with examples in the code below."
            ]
        },
        {
            "cell_type": "code",
            "execution_count": 8,
            "metadata": {},
            "outputs": [
                {
                    "name": "stdout",
                    "output_type": "stream",
                    "text": [
                        "Combined list: [1, 2, 3, 4, 5, 6]\n"
                    ]
                }
            ],
            "source": [
                "# Concatenation\n",
                "list1 = [1, 2, 3]\n",
                "list2 = [4, 5, 6]\n",
                "combined_list = list1 + list2\n",
                "print(\"Combined list:\", combined_list)"
            ]
        },
        {
            "cell_type": "code",
            "execution_count": 9,
            "metadata": {},
            "outputs": [
                {
                    "name": "stdout",
                    "output_type": "stream",
                    "text": [
                        "Repeated list: [1, 2, 3, 1, 2, 3, 1, 2, 3]\n"
                    ]
                }
            ],
            "source": [
                "# Repetition\n",
                "repeated_list = list1 * 3\n",
                "print(\"Repeated list:\", repeated_list)"
            ]
        },
        {
            "cell_type": "code",
            "execution_count": 10,
            "metadata": {},
            "outputs": [
                {
                    "name": "stdout",
                    "output_type": "stream",
                    "text": [
                        "Is 2 in list1? True\n",
                        "Is 5 not in list1? True\n"
                    ]
                }
            ],
            "source": [
                "# Membership Testing\n",
                "print(\"Is 2 in list1?\", 2 in list1)\n",
                "print(\"Is 5 not in list1?\", 5 not in list1)"
            ]
        },
        {
            "cell_type": "markdown",
            "metadata": {},
            "source": [
                "# 3. List Methods and Functions\n",
                "\n",
                "In this section, we'll explore various methods and functions that can be used to modify, organize, and search within lists. We'll also learn about list comprehension, a powerful and concise way to create lists in Python."
            ]
        },
        {
            "cell_type": "markdown",
            "metadata": {},
            "source": [
                "## Modifying Lists\n",
                "\n",
                "Python lists are mutable, meaning their elements can be changed after the list has been created. Python provides several methods that allow you to modify lists directly. Here we'll explore some of the most commonly used methods for adding and removing elements."
            ]
        },
        {
            "cell_type": "markdown",
            "metadata": {},
            "source": [
                "### Using `.append()`\n",
                "\n",
                "The `.append()` method adds an item to the end of a list.\n",
                "\n",
                "**Syntax:**\n",
                "```python\n",
                "list.append(item)"
            ]
        },
        {
            "cell_type": "code",
            "execution_count": 11,
            "metadata": {},
            "outputs": [
                {
                    "name": "stdout",
                    "output_type": "stream",
                    "text": [
                        "['apple', 'banana', 'cherry', 'orange']\n"
                    ]
                }
            ],
            "source": [
                "fruits = ['apple', 'banana', 'cherry']\n",
                "fruits.append('orange')\n",
                "print(fruits)"
            ]
        },
        {
            "cell_type": "markdown",
            "metadata": {},
            "source": [
                "### Using `.extend()`\n",
                "\n",
                "The `.extend()` method adds all elements of a list to another list.\n",
                "\n",
                "**Syntax:**\n",
                "```python\n",
                "list.extend(iterable)\n"
            ]
        },
        {
            "cell_type": "code",
            "execution_count": 12,
            "metadata": {},
            "outputs": [
                {
                    "name": "stdout",
                    "output_type": "stream",
                    "text": [
                        "['apple', 'banana', 'cherry', 'orange', 'grape', 'mango']\n"
                    ]
                }
            ],
            "source": [
                "fruits.extend(['grape', 'mango'])\n",
                "print(fruits)"
            ]
        },
        {
            "cell_type": "markdown",
            "metadata": {},
            "source": [
                "### Using `.insert()`\n",
                "\n",
                "The `.insert()` method inserts an item at a specified position.\n",
                "\n",
                "**Syntax:**\n",
                "```python\n",
                "list.insert(position, item)"
            ]
        },
        {
            "cell_type": "code",
            "execution_count": 13,
            "metadata": {},
            "outputs": [
                {
                    "name": "stdout",
                    "output_type": "stream",
                    "text": [
                        "['apple', 'kiwi', 'banana', 'cherry', 'orange', 'grape', 'mango']\n"
                    ]
                }
            ],
            "source": [
                "fruits.insert(1, 'kiwi')\n",
                "print(fruits)"
            ]
        },
        {
            "cell_type": "markdown",
            "metadata": {},
            "source": [
                "### Using `.remove()`\n",
                "\n",
                "The `.remove()` method removes the first occurrence of the element with the specified value.\n",
                "\n",
                "**Syntax:**\n",
                "```python\n",
                "list.remove(item)"
            ]
        },
        {
            "cell_type": "code",
            "execution_count": 14,
            "metadata": {},
            "outputs": [
                {
                    "name": "stdout",
                    "output_type": "stream",
                    "text": [
                        "['apple', 'kiwi', 'cherry', 'orange', 'grape', 'mango']\n"
                    ]
                }
            ],
            "source": [
                "fruits.remove('banana')\n",
                "print(fruits)"
            ]
        },
        {
            "cell_type": "markdown",
            "metadata": {},
            "source": [
                "### Using `.pop()`\n",
                "\n",
                "The `.pop()` method removes the item at the given position in the list, and returns it.\n",
                "\n",
                "**Syntax:**\n",
                "```python\n",
                "list.pop(position)"
            ]
        },
        {
            "cell_type": "code",
            "execution_count": 15,
            "metadata": {},
            "outputs": [
                {
                    "name": "stdout",
                    "output_type": "stream",
                    "text": [
                        "['apple', 'cherry', 'orange', 'grape', 'mango']\n"
                    ]
                }
            ],
            "source": [
                "fruits.pop(1)\n",
                "print(fruits)"
            ]
        },
        {
            "cell_type": "markdown",
            "metadata": {},
            "source": [
                "### Using `del`\n",
                "\n",
                "The `del` statement removes the item at a specified position.\n",
                "\n",
                "**Syntax:**\n",
                "```python\n",
                "del list[position]"
            ]
        },
        {
            "cell_type": "code",
            "execution_count": 16,
            "metadata": {},
            "outputs": [
                {
                    "name": "stdout",
                    "output_type": "stream",
                    "text": [
                        "['cherry', 'orange', 'grape', 'mango']\n"
                    ]
                }
            ],
            "source": [
                "del fruits[0]\n",
                "print(fruits)"
            ]
        },
        {
            "cell_type": "markdown",
            "metadata": {},
            "source": [
                "### Using `.clear()`\n",
                "\n",
                "The `.clear()` method removes all the elements from a list.\n",
                "\n",
                "**Syntax:**\n",
                "```python\n",
                "list.clear()"
            ]
        },
        {
            "cell_type": "code",
            "execution_count": 17,
            "metadata": {},
            "outputs": [
                {
                    "name": "stdout",
                    "output_type": "stream",
                    "text": [
                        "[]\n"
                    ]
                }
            ],
            "source": [
                "fruits.clear()\n",
                "print(fruits)"
            ]
        },
        {
            "cell_type": "markdown",
            "metadata": {},
            "source": [
                "### Using `.copy()`\n",
                "\n",
                "The `.copy()` method returns a copy of the list.\n",
                "\n",
                "**Syntax:**\n",
                "```python\n",
                "list.copy()"
            ]
        },
        {
            "cell_type": "code",
            "execution_count": 18,
            "metadata": {},
            "outputs": [
                {
                    "name": "stdout",
                    "output_type": "stream",
                    "text": [
                        "Original: ['apple', 'grape', 'mango']\n",
                        "Reversed: ['mango', 'grape', 'apple']\n",
                        "Copied: ['apple', 'grape', 'mango']\n"
                    ]
                }
            ],
            "source": [
                "fruits = ['apple', 'grape', 'mango']\n",
                "copied_fruits = fruits.copy()\n",
                "print(f\"Original: {fruits}\")\n",
                "\n",
                "fruits.reverse()\n",
                "print(f\"Reversed: {fruits}\")\n",
                "\n",
                "print(f\"Copied: {sorted(fruits)}\")"
            ]
        },
        {
            "cell_type": "code",
            "execution_count": 19,
            "metadata": {},
            "outputs": [
                {
                    "name": "stdout",
                    "output_type": "stream",
                    "text": [
                        "Before changes:\n",
                        "Original: [1, 2, 3, 4, 5]\n",
                        "New: [1, 2, 3, 4, 5]\n",
                        "\n",
                        "After changes:\n",
                        "Original: [100, 2, 3, 4, 5]\n",
                        "New: [100, 2, 3, 4, 5]\n"
                    ]
                }
            ],
            "source": [
                "numbers = [1, 2, 3, 4, 5]\n",
                "new_numbers = numbers\n",
                "\n",
                "print(\"Before changes:\")\n",
                "\n",
                "print(\"Original:\", numbers)\n",
                "print(\"New:\", new_numbers)\n",
                "print()\n",
                "\n",
                "print(\"After changes:\")\n",
                "\n",
                "numbers[0] = 100\n",
                "\n",
                "print(\"Original:\", numbers)\n",
                "print(\"New:\", new_numbers)"
            ]
        },
        {
            "cell_type": "markdown",
            "metadata": {},
            "source": [
                "That's why we use the copy() method to create a new list with the same elements as the original list."
            ]
        },
        {
            "cell_type": "markdown",
            "metadata": {},
            "source": [
                "## Organizing Lists\n",
                "\n",
                "Python lists can be organized in-place using the `.sort()` method or sorted into a new list using the `sorted()` function. Understanding the difference between these two approaches is crucial for effective list manipulation.\n"
            ]
        },
        {
            "cell_type": "markdown",
            "metadata": {},
            "source": [
                "### Using `.sort()`\n",
                "\n",
                "The `.sort()` method sorts the list in ascending order by default. You can also make it sort in descending order using the `reverse=True` argument.\n",
                "\n",
                "**Syntax:**\n",
                "```python\n",
                "list.sort(reverse=False)"
            ]
        },
        {
            "cell_type": "code",
            "execution_count": 20,
            "metadata": {},
            "outputs": [
                {
                    "name": "stdout",
                    "output_type": "stream",
                    "text": [
                        "Sorted in ascending: [1, 1, 2, 3, 4, 5, 9]\n"
                    ]
                }
            ],
            "source": [
                "numbers = [3, 1, 4, 1, 5, 9, 2]\n",
                "numbers.sort()\n",
                "print(\"Sorted in ascending:\", numbers)"
            ]
        },
        {
            "cell_type": "code",
            "execution_count": 21,
            "metadata": {},
            "outputs": [
                {
                    "name": "stdout",
                    "output_type": "stream",
                    "text": [
                        "Sorted in descending: [9, 5, 4, 3, 2, 1, 1]\n"
                    ]
                }
            ],
            "source": [
                "numbers.sort(reverse=True)\n",
                "print(\"Sorted in descending:\", numbers)"
            ]
        },
        {
            "cell_type": "markdown",
            "metadata": {},
            "source": [
                "### Using `sorted()`\n",
                "\n",
                "The `sorted()` function returns a new list containing all elements in the sorted order without modifying the original list.\n",
                "\n",
                "**Syntax:**\n",
                "```python\n",
                "sorted_list = sorted(iterable, reverse=False)"
            ]
        },
        {
            "cell_type": "code",
            "execution_count": 22,
            "metadata": {},
            "outputs": [
                {
                    "name": "stdout",
                    "output_type": "stream",
                    "text": [
                        "Original list: [9, 5, 4, 3, 2, 1, 1]\n",
                        "Sorted list: [1, 1, 2, 3, 4, 5, 9]\n"
                    ]
                }
            ],
            "source": [
                "sorted_numbers = sorted(numbers)\n",
                "print(\"Original list:\", numbers)\n",
                "print(\"Sorted list:\", sorted_numbers)"
            ]
        },
        {
            "cell_type": "markdown",
            "metadata": {},
            "source": [
                "Python also provides methods to reverse a list in-place and create a reverse-sorted list."
            ]
        },
        {
            "cell_type": "markdown",
            "metadata": {},
            "source": [
                "### Using `.reverse()`\n",
                "\n",
                "The `.reverse()` method reverses the elements of the list in place.\n",
                "\n",
                "**Syntax:**\n",
                "```python\n",
                "list.reverse()\n",
                "```"
            ]
        },
        {
            "cell_type": "code",
            "execution_count": 23,
            "metadata": {},
            "outputs": [
                {
                    "name": "stdout",
                    "output_type": "stream",
                    "text": [
                        "Reversed list: [2, 9, 5, 1, 4, 1, 3]\n"
                    ]
                }
            ],
            "source": [
                "numbers = [3, 1, 4, 1, 5, 9, 2]\n",
                "numbers.reverse()\n",
                "print(\"Reversed list:\", numbers)"
            ]
        },
        {
            "cell_type": "markdown",
            "metadata": {},
            "source": [
                "### Using `reversed()`\n",
                "\n",
                "The `reversed()` function returns an iterator that yields the elements of the list in reverse order.\n",
                "\n",
                "**Syntax:**\n",
                "```python\n",
                "reversed_list = reversed(iterable)\n",
                "```"
            ]
        },
        {
            "cell_type": "code",
            "execution_count": 24,
            "metadata": {},
            "outputs": [
                {
                    "name": "stdout",
                    "output_type": "stream",
                    "text": [
                        "Original list: [3, 1, 4, 1, 5, 9, 2]\n",
                        "Reversed list: [2, 9, 5, 1, 4, 1, 3]\n"
                    ]
                }
            ],
            "source": [
                "numbers = [3, 1, 4, 1, 5, 9, 2]\n",
                "reversed_numbers = reversed(numbers)\n",
                "print(\"Original list:\", numbers)\n",
                "print(\"Reversed list:\", list(reversed_numbers))"
            ]
        },
        {
            "cell_type": "markdown",
            "metadata": {},
            "source": [
                "## Searching in Lists\n",
                "\n",
                "To find elements in a list, you can use the `.index()` method to get their index or `.count()` to find how many times an element appears."
            ]
        },
        {
            "cell_type": "markdown",
            "metadata": {},
            "source": [
                "### Using `.index()`\n",
                "\n",
                "The `.index()` method returns the index of the first occurrence of an element within the list.\n",
                "\n",
                "**Syntax:**\n",
                "```python\n",
                "index = list.index(item)"
            ]
        },
        {
            "cell_type": "code",
            "execution_count": 25,
            "metadata": {},
            "outputs": [
                {
                    "name": "stdout",
                    "output_type": "stream",
                    "text": [
                        "Index of banana: 1\n"
                    ]
                }
            ],
            "source": [
                "fruits = ['apple', 'banana', 'cherry']\n",
                "banana_index = fruits.index('banana')\n",
                "print(\"Index of banana:\", banana_index)"
            ]
        },
        {
            "cell_type": "markdown",
            "metadata": {},
            "source": [
                "### Using `.count()`\n",
                "\n",
                "The `.count()` method returns the number of occurrences of an element within the list.\n",
                "\n",
                "**Syntax:**\n",
                "```python\n",
                "count = list.count(item)"
            ]
        },
        {
            "cell_type": "code",
            "execution_count": 26,
            "metadata": {},
            "outputs": [
                {
                    "name": "stdout",
                    "output_type": "stream",
                    "text": [
                        "Count of banana: 2\n"
                    ]
                }
            ],
            "source": [
                "fruits = ['apple', 'banana', 'cherry', 'banana']\n",
                "banana_count = fruits.count('banana')\n",
                "print(\"Count of banana:\", banana_count)"
            ]
        },
        {
            "cell_type": "markdown",
            "metadata": {},
            "source": [
                "Code below is equivalent to the code above, but it uses the iteration over the list to count number of occurrences of an element."
            ]
        },
        {
            "cell_type": "code",
            "execution_count": null,
            "metadata": {},
            "outputs": [],
            "source": [
                "banana_count = 0\n",
                "for fruit in fruits:\n",
                "    if fruit == 'banana':\n",
                "        banana_count += 1\n",
                "print(\"Count of banana:\", banana_count)"
            ]
        },
        {
            "cell_type": "markdown",
            "metadata": {},
            "source": [
                "### Using `in` Operator\n",
                "\n",
                "The `in` operator is used to check if an element is present in the list.\n",
                "\n",
                "**Syntax:**\n",
                "```python\n",
                "element in list"
            ]
        },
        {
            "cell_type": "code",
            "execution_count": 27,
            "metadata": {},
            "outputs": [
                {
                    "name": "stdout",
                    "output_type": "stream",
                    "text": [
                        "Is banana in fruits? True\n",
                        "Is strawberry in fruits? False\n"
                    ]
                }
            ],
            "source": [
                "fruits = ['apple', 'banana', 'cherry']\n",
                "banana_in_fruits = 'banana' in fruits\n",
                "strawberry_in_fruits = 'strawberry' in fruits\n",
                "print(\"Is banana in fruits?\", banana_in_fruits)\n",
                "print(\"Is strawberry in fruits?\", strawberry_in_fruits)"
            ]
        },
        {
            "cell_type": "markdown",
            "metadata": {},
            "source": [
                "### Using `len()`\n",
                "\n",
                "The `len()` function returns the number of elements in a list.\n",
                "\n",
                "**Syntax:**\n",
                "```python\n",
                "length = len(list)"
            ]
        },
        {
            "cell_type": "code",
            "execution_count": 28,
            "metadata": {},
            "outputs": [
                {
                    "name": "stdout",
                    "output_type": "stream",
                    "text": [
                        "Number of fruits: 3\n"
                    ]
                }
            ],
            "source": [
                "fruits = ['apple', 'banana', 'cherry']\n",
                "number_of_fruits = len(fruits)\n",
                "print(\"Number of fruits:\", number_of_fruits)"
            ]
        },
        {
            "cell_type": "markdown",
            "metadata": {},
            "source": [
                "## Iterating Over Lists\n",
                "\n",
                "You can use a `for` loop to iterate over each item in a list.\n",
                "\n",
                "**Syntax:**\n",
                "```python\n",
                "for item in list:\n",
                "    print(item)"
            ]
        },
        {
            "cell_type": "markdown",
            "metadata": {},
            "source": [
                "### Iterating Over index\n",
                "\n",
                "You can use the `range()` function to iterate over the indexes of a list.\n",
                "\n",
                "**Syntax:**\n",
                "```python\n",
                "for i in range(len(list)):\n",
                "    print(list[i])\n"
            ]
        },
        {
            "cell_type": "markdown",
            "metadata": {},
            "source": [
                "In the example below, we create a list called `fruits` containing three string elements. Then, we iterate over the list using a `for` loop. In each iteration, the variable `fruit` is assigned to the current list item, and we print it out."
            ]
        },
        {
            "cell_type": "code",
            "execution_count": 29,
            "metadata": {},
            "outputs": [
                {
                    "name": "stdout",
                    "output_type": "stream",
                    "text": [
                        "fruit = 'apple'\n",
                        "fruit = 'banana'\n",
                        "fruit = 'cherry'\n"
                    ]
                }
            ],
            "source": [
                "fruits = ['apple', 'banana', 'cherry']\n",
                "\n",
                "for fruit in fruits:\n",
                "    print(f\"{fruit = }\")"
            ]
        },
        {
            "cell_type": "markdown",
            "metadata": {},
            "source": [
                "### Iterating Over Index\n",
                "\n",
                "Sometimes, you may want to iterate over the indexes of the items in a list. This can be done using the `range()` function combined with `len()`. The `range()` function generates a sequence of numbers, which, when combined with `len(list)`, will generate indexes for the list.\n",
                "\n",
                "In the example, we use `for i in range(len(fruits)):` to iterate over the indexes of the `fruits` list. Inside the loop, `list[i]` gives us the element at the `i`-th index, which we print out."
            ]
        },
        {
            "cell_type": "code",
            "execution_count": 31,
            "metadata": {},
            "outputs": [
                {
                    "name": "stdout",
                    "output_type": "stream",
                    "text": [
                        "i = 0, fruits[i] = 'apple'\n",
                        "i = 1, fruits[i] = 'banana'\n",
                        "i = 2, fruits[i] = 'cherry'\n"
                    ]
                }
            ],
            "source": [
                "for i in range(len(fruits)):\n",
                "    print(f\"{i = }, {fruits[i] = }\")"
            ]
        },
        {
            "cell_type": "markdown",
            "metadata": {},
            "source": [
                "### Using `enumerate()`\n",
                "\n",
                "The `enumerate()` function provides a convenient way to retrieve both the index and the value of each item in a list. When you use `enumerate()`, it returns a tuple containing the index and the item itself.\n",
                "\n",
                "Let's see how you can use `enumerate()` to get both the index and the value when iterating over a list."
            ]
        },
        {
            "cell_type": "code",
            "execution_count": 32,
            "metadata": {},
            "outputs": [
                {
                    "name": "stdout",
                    "output_type": "stream",
                    "text": [
                        "Index: 0, Fruit: apple\n",
                        "Index: 1, Fruit: banana\n",
                        "Index: 2, Fruit: cherry\n"
                    ]
                }
            ],
            "source": [
                "for index, fruit in enumerate(fruits):\n",
                "    print(f\"Index: {index}, Fruit: {fruit}\")"
            ]
        },
        {
            "cell_type": "markdown",
            "metadata": {},
            "source": [
                "## List Comprehension\n",
                "\n",
                "List comprehension offers a shorter syntax when you want to create a new list based on the values of an existing list. Python's list comprehensions are a very readable way to generate lists without having to use different for loops to append values one by one."
            ]
        },
        {
            "cell_type": "markdown",
            "metadata": {},
            "source": [
                "### Basic Syntax\n",
                "\n",
                "The basic syntax of a list comprehension is:\n",
                "\n",
                "```plaintext\n",
                "[expression for item in iterable if condition]\n",
                "```\n",
                "\n",
                "- **expression** is the current item in the iteration, but it is also the outcome, which you can manipulate before it ends up like an item in the new list.\n",
                "- **for item in iterable** is the for loop over an iterable object (like a list or range).\n",
                "- **if condition** is optional; if provided, the expression is added to the new list only if it evaluates to `True`."
            ]
        },
        {
            "cell_type": "code",
            "execution_count": 34,
            "metadata": {},
            "outputs": [
                {
                    "name": "stdout",
                    "output_type": "stream",
                    "text": [
                        "[0, 1, 4, 9, 16, 25, 36, 49, 64, 81]\n"
                    ]
                }
            ],
            "source": [
                "# A simple list comprehension to get squares of numbers\n",
                "squares = [x**2 for x in range(10)]\n",
                "print(squares)"
            ]
        },
        {
            "cell_type": "markdown",
            "metadata": {},
            "source": [
                "### Adding Conditional Logic\n",
                "\n",
                "You can also add conditional logic to list comprehensions to create more complex patterns. For example, if you only want to include squares of even numbers, you can add a conditional at the end of the list comprehension."
            ]
        },
        {
            "cell_type": "code",
            "execution_count": 35,
            "metadata": {},
            "outputs": [
                {
                    "name": "stdout",
                    "output_type": "stream",
                    "text": [
                        "[0, 4, 16, 36, 64]\n"
                    ]
                }
            ],
            "source": [
                "even_squares = [x**2 for x in range(10) if x % 2 == 0]\n",
                "print(even_squares)"
            ]
        },
        {
            "cell_type": "markdown",
            "metadata": {},
            "source": [
                "### Nested List Comprehension\n",
                "\n",
                "List comprehensions can be nested, meaning that you can use one list comprehension inside another. This is particularly useful for creating 2D lists or matrices.\n"
            ]
        },
        {
            "cell_type": "code",
            "execution_count": 36,
            "metadata": {},
            "outputs": [
                {
                    "name": "stdout",
                    "output_type": "stream",
                    "text": [
                        "[[1, 0, 0], [0, 1, 0], [0, 0, 1]]\n"
                    ]
                }
            ],
            "source": [
                "# Creating a 3x3 identity matrix using a nested list comprehension\n",
                "identity_matrix = [[1 if item_idx == row_idx else 0 for item_idx in range(3)] for row_idx in range(3)]\n",
                "print(identity_matrix)"
            ]
        },
        {
            "cell_type": "markdown",
            "metadata": {},
            "source": [
                "# 4. Tuples and Immutability 🔒\n",
                "\n",
                "Tuples are ordered collections of items, similar to lists. However, tuples are immutable, which means once a tuple is created, its contents cannot be changed."
            ]
        },
        {
            "cell_type": "markdown",
            "metadata": {},
            "source": [
                "## Using Tuples\n",
                "\n",
                "Tuples are created by placing a sequence of values separated by commas within parentheses. Tuples can contain mixed data types and support indexing and slicing like lists."
            ]
        },
        {
            "cell_type": "markdown",
            "metadata": {},
            "source": [
                "### Creating a Tuple\n",
                "\n",
                "To create a tuple, you place all the items (elements) inside parentheses `()`, separated by commas. It can have any number of items, and they may be of different types (integer, float, string, etc.)."
            ]
        },
        {
            "cell_type": "code",
            "execution_count": 37,
            "metadata": {},
            "outputs": [
                {
                    "name": "stdout",
                    "output_type": "stream",
                    "text": [
                        "('apple', 'banana', 'cherry')\n"
                    ]
                }
            ],
            "source": [
                "# Creating a tuple\n",
                "fruits = ('apple', 'banana', 'cherry')\n",
                "\n",
                "print(fruits)"
            ]
        },
        {
            "cell_type": "markdown",
            "metadata": {},
            "source": [
                "### Accessing Tuple Elements\n",
                "\n",
                "You can access elements of a tuple by referring to the index number, inside square brackets. Remember, Python indexing starts at 0."
            ]
        },
        {
            "cell_type": "code",
            "execution_count": 38,
            "metadata": {},
            "outputs": [
                {
                    "name": "stdout",
                    "output_type": "stream",
                    "text": [
                        "banana\n",
                        "cherry\n",
                        "('banana', 'cherry')\n"
                    ]
                }
            ],
            "source": [
                "# Accessing elements\n",
                "print(fruits[1])  # Outputs 'banana'\n",
                "print(fruits[-1])  # Outputs 'cherry'\n",
                "\n",
                "# Slicing a tuple\n",
                "print(fruits[1:])  # Outputs ('banana', 'cherry')"
            ]
        },
        {
            "cell_type": "markdown",
            "metadata": {},
            "source": [
                "## Immutability Explained\n",
                "\n",
                "Immutability means that once a tuple is created, it cannot be modified. This has implications for performance and usage within your code.\n",
                "\n",
                "- You cannot add or remove items from a tuple.\n",
                "- You cannot sort or reverse a tuple in place.\n",
                "\n",
                "Tuples are commonly used for data that should not change over time, such as coordinates, days of the week, or other fixed collections."
            ]
        },
        {
            "cell_type": "code",
            "execution_count": 39,
            "metadata": {},
            "outputs": [
                {
                    "ename": "TypeError",
                    "evalue": "'tuple' object does not support item assignment",
                    "output_type": "error",
                    "traceback": [
                        "\u001b[0;31m---------------------------------------------------------------------------\u001b[0m",
                        "\u001b[0;31mTypeError\u001b[0m                                 Traceback (most recent call last)",
                        "Cell \u001b[0;32mIn[39], line 3\u001b[0m\n\u001b[1;32m      1\u001b[0m \u001b[38;5;66;03m# Tuples Immutable\u001b[39;00m\n\u001b[0;32m----> 3\u001b[0m \u001b[43mfruits\u001b[49m\u001b[43m[\u001b[49m\u001b[38;5;241;43m0\u001b[39;49m\u001b[43m]\u001b[49m \u001b[38;5;241m=\u001b[39m \u001b[38;5;124m'\u001b[39m\u001b[38;5;124mmango\u001b[39m\u001b[38;5;124m'\u001b[39m  \u001b[38;5;66;03m# Raises TypeError\u001b[39;00m\n",
                        "\u001b[0;31mTypeError\u001b[0m: 'tuple' object does not support item assignment"
                    ]
                }
            ],
            "source": [
                "# Tuples Immutable\n",
                "\n",
                "fruits[0] = 'mango'  # Raises TypeError"
            ]
        },
        {
            "cell_type": "markdown",
            "metadata": {},
            "source": [
                "## When to Use Tuples\n",
                "\n",
                "Tuples are often used in scenarios where you want to ensure that the data remains constant throughout the program. For example, you might use a tuple to store the dimensions of an image, the coordinates of a point, or the RGB values of a color."
            ]
        },
        {
            "cell_type": "code",
            "execution_count": 40,
            "metadata": {},
            "outputs": [
                {
                    "name": "stdout",
                    "output_type": "stream",
                    "text": [
                        "((255, 0, 0), (0, 255, 0), (0, 0, 255))\n",
                        "<class 'tuple'>\n"
                    ]
                }
            ],
            "source": [
                "RED = (255, 0, 0)\n",
                "GREEN = (0, 255, 0)\n",
                "BLUE = (0, 0, 255)\n",
                "\n",
                "RGB = (RED, GREEN, BLUE)\n",
                "print(RGB)\n",
                "print(type(RGB))"
            ]
        },
        {
            "cell_type": "markdown",
            "metadata": {},
            "source": [
                "This code creates three tuples, `RED`, `GREEN`, and `BLUE`, each representing an RGB color. Then, these tuples are combined into a single tuple `RGB`. The output shows that `RGB` is a tuple containing the three color tuples."
            ]
        },
        {
            "cell_type": "markdown",
            "metadata": {},
            "source": [
                "# 5. Sets and Operations 🛠️\n",
                "\n",
                "Sets are unordered collections of unique items. They are mutable and are useful for performing mathematical set operations such as union, intersection, and difference."
            ]
        },
        {
            "cell_type": "markdown",
            "metadata": {},
            "source": [
                "## Introduction to Sets\n",
                "\n",
                "### Creating a Set\n",
                "\n",
                "To create a set, you place all the items (elements) inside curly braces `{}`, separated by commas. It can have any number of items, and they may be of different types (integer, float, string, etc.).\n",
                "\n",
                "### Using `set()`\n",
                "\n",
                "The `set()` function can also be used to create a set from an iterable (like a string, list, tuple, etc.) or to create an empty set. If you don't pass any argument to `set()`, it returns an empty set.\n"
            ]
        },
        {
            "cell_type": "code",
            "execution_count": 41,
            "metadata": {},
            "outputs": [
                {
                    "name": "stdout",
                    "output_type": "stream",
                    "text": [
                        "{'orange', 'banana', 'apple', 'pear'}\n"
                    ]
                }
            ],
            "source": [
                "# Creating a set\n",
                "basket = {'apple', 'orange', 'apple', 'pear', 'orange', 'banana'}\n",
                "\n",
                "# Showing that duplicates have been removed\n",
                "print(basket)  # Outputs {'orange', 'banana', 'pear', 'apple'}"
            ]
        },
        {
            "cell_type": "markdown",
            "metadata": {},
            "source": [
                "## Set Operations\n",
                "\n",
                "Sets support operations like union, intersection, and difference, which allow you to combine, find common elements, or find unique elements between sets."
            ]
        },
        {
            "cell_type": "code",
            "execution_count": 43,
            "metadata": {},
            "outputs": [],
            "source": [
                "A = {1, 2, 3, 4, 5}\n",
                "B = {4, 5, 6, 7, 8}"
            ]
        },
        {
            "cell_type": "markdown",
            "metadata": {},
            "source": [
                "### Union\n",
                "\n",
                "The union of two sets `A` and `B` is a set of all elements from both sets. It is performed using the `|` operator or the `.union()` method."
            ]
        },
        {
            "cell_type": "code",
            "execution_count": 44,
            "metadata": {},
            "outputs": [
                {
                    "name": "stdout",
                    "output_type": "stream",
                    "text": [
                        "{1, 2, 3, 4, 5, 6, 7, 8}\n"
                    ]
                }
            ],
            "source": [
                "# Union\n",
                "C = A | B\n",
                "print(C)  # Outputs {1, 2, 3, 4, 5, 6, 7, 8}"
            ]
        },
        {
            "cell_type": "code",
            "execution_count": 45,
            "metadata": {},
            "outputs": [
                {
                    "name": "stdout",
                    "output_type": "stream",
                    "text": [
                        "{1, 2, 3, 4, 5, 6, 7, 8}\n"
                    ]
                }
            ],
            "source": [
                "# Union using the union() method\n",
                "C = A.union(B)\n",
                "print(C)  # Outputs {1, 2, 3, 4, 5, 6, 7, 8}"
            ]
        },
        {
            "cell_type": "markdown",
            "metadata": {},
            "source": [
                "### Intersection\n",
                "\n",
                "The intersection of two sets `A` and `B` is a set of elements that are common in both sets. It is performed using the `&` operator or the `.intersection()` method."
            ]
        },
        {
            "cell_type": "code",
            "execution_count": 46,
            "metadata": {},
            "outputs": [
                {
                    "name": "stdout",
                    "output_type": "stream",
                    "text": [
                        "{4, 5}\n"
                    ]
                }
            ],
            "source": [
                "# Intersection\n",
                "C = A & B\n",
                "print(C)  # Outputs {4, 5}"
            ]
        },
        {
            "cell_type": "code",
            "execution_count": 48,
            "metadata": {},
            "outputs": [
                {
                    "name": "stdout",
                    "output_type": "stream",
                    "text": [
                        "{4, 5}\n"
                    ]
                }
            ],
            "source": [
                "# Intersection using the intersection() method\n",
                "C = A.intersection(B)\n",
                "print(C)  # Outputs {4, 5}"
            ]
        },
        {
            "cell_type": "markdown",
            "metadata": {},
            "source": [
                "### Difference\n",
                "\n",
                "The difference between two sets `A` and `B` is a set of elements that are only in `A` but not in `B`. It is performed using the `-` operator or the `.difference()` method.\n"
            ]
        },
        {
            "cell_type": "code",
            "execution_count": 49,
            "metadata": {},
            "outputs": [
                {
                    "name": "stdout",
                    "output_type": "stream",
                    "text": [
                        "{1, 2, 3}\n"
                    ]
                }
            ],
            "source": [
                "# Difference\n",
                "C = A - B\n",
                "print(C)  # Outputs {1, 2, 3}"
            ]
        },
        {
            "cell_type": "code",
            "execution_count": 50,
            "metadata": {},
            "outputs": [
                {
                    "name": "stdout",
                    "output_type": "stream",
                    "text": [
                        "{1, 2, 3}\n"
                    ]
                }
            ],
            "source": [
                "# Difference using the difference() method\n",
                "C = A.difference(B)\n",
                "print(C)  # Outputs {1, 2, 3}"
            ]
        },
        {
            "cell_type": "markdown",
            "metadata": {},
            "source": [
                "### Symmetric Difference\n",
                "\n",
                "The symmetric difference between two sets `A` and `B` is a set of elements that are in either of the sets, but not in both. It is performed using the `^` operator or the `.symmetric_difference()` method."
            ]
        },
        {
            "cell_type": "code",
            "execution_count": 51,
            "metadata": {},
            "outputs": [
                {
                    "name": "stdout",
                    "output_type": "stream",
                    "text": [
                        "{1, 2, 3, 6, 7, 8}\n"
                    ]
                }
            ],
            "source": [
                "# Symmetric Difference\n",
                "C = A ^ B\n",
                "print(C)  # Outputs {1, 2, 3, 6, 7, 8}"
            ]
        },
        {
            "cell_type": "code",
            "execution_count": 52,
            "metadata": {},
            "outputs": [
                {
                    "name": "stdout",
                    "output_type": "stream",
                    "text": [
                        "{1, 2, 3, 6, 7, 8}\n"
                    ]
                }
            ],
            "source": [
                "# Symmetric Difference using the symmetric_difference() method\n",
                "C = A.symmetric_difference(B)\n",
                "print(C)  # Outputs {1, 2, 3, 6, 7, 8}"
            ]
        },
        {
            "cell_type": "markdown",
            "metadata": {},
            "source": [
                "### Set Methods\n",
                "\n",
                "Python sets have a variety of methods that allow you to manipulate the set, including adding and removing elements and performing set comparisons.\n",
                "\n",
                "- `.add(elem)` adds an element to a set.\n",
                "- `.remove(elem)` removes an element from a set. If the element is not a member, it raises a `KeyError`.\n",
                "- `.discard(elem)` removes an element from a set if it is a member. If the element is not a member, do nothing.\n",
                "- `.pop()` removes and returns an arbitrary set element. Raises `KeyError` if the set is empty.\n",
                "- `.clear()` removes all elements from the set.\n"
            ]
        },
        {
            "cell_type": "code",
            "execution_count": 53,
            "metadata": {},
            "outputs": [],
            "source": [
                "basket = {'apple', 'orange', 'apple', 'pear', 'orange', 'banana'}"
            ]
        },
        {
            "cell_type": "code",
            "execution_count": 54,
            "metadata": {},
            "outputs": [
                {
                    "name": "stdout",
                    "output_type": "stream",
                    "text": [
                        "{'grape', 'orange', 'banana', 'pear', 'apple'}\n"
                    ]
                }
            ],
            "source": [
                "# Adding to a set\n",
                "basket.add('grape')\n",
                "print(basket)"
            ]
        },
        {
            "cell_type": "code",
            "execution_count": 55,
            "metadata": {},
            "outputs": [
                {
                    "name": "stdout",
                    "output_type": "stream",
                    "text": [
                        "{'grape', 'orange', 'banana', 'pear'}\n"
                    ]
                }
            ],
            "source": [
                "# Removing from a set\n",
                "basket.remove('apple')\n",
                "print(basket)"
            ]
        },
        {
            "cell_type": "code",
            "execution_count": 56,
            "metadata": {},
            "outputs": [
                {
                    "name": "stdout",
                    "output_type": "stream",
                    "text": [
                        "{'grape', 'orange', 'pear'}\n"
                    ]
                }
            ],
            "source": [
                "# Discarding an element\n",
                "basket.discard('banana')\n",
                "print(basket)"
            ]
        },
        {
            "cell_type": "code",
            "execution_count": 57,
            "metadata": {},
            "outputs": [
                {
                    "name": "stdout",
                    "output_type": "stream",
                    "text": [
                        "grape\n",
                        "{'orange', 'pear'}\n"
                    ]
                }
            ],
            "source": [
                "# Popping an element\n",
                "print(basket.pop())\n",
                "print(basket)"
            ]
        },
        {
            "cell_type": "code",
            "execution_count": 58,
            "metadata": {},
            "outputs": [
                {
                    "name": "stdout",
                    "output_type": "stream",
                    "text": [
                        "set()\n"
                    ]
                }
            ],
            "source": [
                "# Clearing the set\n",
                "basket.clear()\n",
                "print(basket)"
            ]
        },
        {
            "cell_type": "markdown",
            "metadata": {},
            "source": [
                "# 6. Nested Lists and 2D Lists 📦\n",
                "\n",
                "Nested lists are lists that contain other lists as elements. They are useful for representing 2D data, such as matrices or tables, and can be used to create more complex data structures."
            ]
        },
        {
            "cell_type": "markdown",
            "metadata": {},
            "source": [
                "## Introduction to Nested Lists\n",
                "\n",
                "Nested lists in Python are lists that contain other lists. They are a versatile data structure that can represent more complex data arrangements, such as matrices, tables, and grids. For instance, in mathematics, a matrix is a rectangular array of numbers arranged in rows and columns, which can be represented in Python as a list of lists.\n"
            ]
        },
        {
            "cell_type": "code",
            "execution_count": 59,
            "metadata": {},
            "outputs": [
                {
                    "name": "stdout",
                    "output_type": "stream",
                    "text": [
                        "[[1, 2], [3, 4]]\n"
                    ]
                }
            ],
            "source": [
                "# Creating a simple 2x2 matrix\n",
                "matrix_2x2 = [\n",
                "    [1, 2],\n",
                "    [3, 4]\n",
                "]\n",
                "\n",
                "# Display the matrix\n",
                "print(matrix_2x2)"
            ]
        },
        {
            "cell_type": "markdown",
            "metadata": {},
            "source": [
                "## Accessing Elements in Nested Lists\n",
                "\n",
                "To access elements in a nested list, you use multiple indices. The first index determines which sub-list (row) to access, and the subsequent indices select the element within that sub-list (column)."
            ]
        },
        {
            "cell_type": "code",
            "execution_count": 60,
            "metadata": {},
            "outputs": [
                {
                    "name": "stdout",
                    "output_type": "stream",
                    "text": [
                        "2\n",
                        "[3, 4]\n"
                    ]
                }
            ],
            "source": [
                "# Accessing an element\n",
                "print(matrix_2x2[0][1])  # Outputs 2\n",
                "\n",
                "# Accessing a row\n",
                "print(matrix_2x2[1])  # Outputs [3, 4]"
            ]
        },
        {
            "cell_type": "code",
            "execution_count": 63,
            "metadata": {},
            "outputs": [
                {
                    "name": "stdout",
                    "output_type": "stream",
                    "text": [
                        "[1, 3]\n"
                    ]
                }
            ],
            "source": [
                "# Accessing a column (requires list comprehension)\n",
                "column = [row[0] for row in matrix_2x2]\n",
                "print(column)  # Outputs [1, 3]"
            ]
        },
        {
            "cell_type": "code",
            "execution_count": 61,
            "metadata": {},
            "outputs": [
                {
                    "name": "stdout",
                    "output_type": "stream",
                    "text": [
                        "[1, 3]\n"
                    ]
                }
            ],
            "source": [
                "# Accessing a column (requires list comprehension)\n",
                "column = [row[0] for row in matrix_2x2]\n",
                "print(column)  # Outputs [1, 3]"
            ]
        },
        {
            "cell_type": "markdown",
            "metadata": {},
            "source": [
                "## Iterating Over Nested Lists\n",
                "\n",
                "When you need to iterate over nested lists, you can use a `for` loop within another `for` loop. The outer loop iterates over the rows, and the inner loop iterates over the individual elements within those rows."
            ]
        },
        {
            "cell_type": "code",
            "execution_count": 64,
            "metadata": {},
            "outputs": [
                {
                    "name": "stdout",
                    "output_type": "stream",
                    "text": [
                        "Row: [1, 2]\n",
                        "Row: [3, 4]\n"
                    ]
                }
            ],
            "source": [
                "# Iterating over rows\n",
                "for row in matrix_2x2:\n",
                "    print(f\"Row: {row}\")"
            ]
        },
        {
            "cell_type": "code",
            "execution_count": 71,
            "metadata": {},
            "outputs": [
                {
                    "name": "stdout",
                    "output_type": "stream",
                    "text": [
                        "Element at (0, 0): 1\n",
                        "Element at (0, 1): 2\n",
                        "Element at (1, 0): 3\n",
                        "Element at (1, 1): 4\n"
                    ]
                }
            ],
            "source": [
                "# Iterating over elements\n",
                "\n",
                "for i in range(2):\n",
                "    for j in range(2):\n",
                "        print(f\"Element at ({i}, {j}): {matrix_2x2[i][j]}\")"
            ]
        },
        {
            "cell_type": "code",
            "execution_count": 65,
            "metadata": {},
            "outputs": [
                {
                    "name": "stdout",
                    "output_type": "stream",
                    "text": [
                        "row = [1, 2], element = 1\n",
                        "row = [1, 2], element = 2\n",
                        "row = [3, 4], element = 3\n",
                        "row = [3, 4], element = 4\n"
                    ]
                }
            ],
            "source": [
                "# Iterating over elements\n",
                "for row in matrix_2x2:\n",
                "    for element in row:\n",
                "        print(f\"{row = }, {element = }\")\n"
            ]
        },
        {
            "cell_type": "markdown",
            "metadata": {},
            "source": [
                "## Building Matrices\n",
                "\n",
                "To build matrices with specific patterns, such as identity or diagonal matrices, you can use nested `for` loops with conditional logic.\n"
            ]
        },
        {
            "cell_type": "code",
            "execution_count": 67,
            "metadata": {},
            "outputs": [
                {
                    "name": "stdout",
                    "output_type": "stream",
                    "text": [
                        "[1, 0, 0]\n",
                        "[0, 1, 0]\n",
                        "[0, 0, 1]\n"
                    ]
                }
            ],
            "source": [
                "# Building a 3x3 identity matrix\n",
                "identity_matrix = [[1 if i == j else 0 for j in range(3)] for i in range(3)]\n",
                "\n",
                "for row in identity_matrix:\n",
                "    print(row)"
            ]
        },
        {
            "cell_type": "code",
            "execution_count": 68,
            "metadata": {},
            "outputs": [
                {
                    "name": "stdout",
                    "output_type": "stream",
                    "text": [
                        "Row 0: [1, 0, 0]\n",
                        "Row 1: [0, 1, 0]\n",
                        "Row 2: [0, 0, 1]\n"
                    ]
                }
            ],
            "source": [
                "# Iterating over rows using index\n",
                "\n",
                "for i in range(len(identity_matrix)):\n",
                "    print(f\"Row {i}: {identity_matrix[i]}\")"
            ]
        },
        {
            "cell_type": "code",
            "execution_count": 70,
            "metadata": {},
            "outputs": [
                {
                    "name": "stdout",
                    "output_type": "stream",
                    "text": [
                        "Column 0: [1, 3]\n",
                        "Column 1: [2, 4]\n"
                    ]
                }
            ],
            "source": [
                "# Iterating over columns using index\n",
                "\n",
                "for i in range(len(matrix_2x2)):\n",
                "    column = [row[i] for row in matrix_2x2]\n",
                "    print(f\"Column {i}: {column}\")"
            ]
        },
        {
            "cell_type": "markdown",
            "metadata": {},
            "source": [
                "# 7. Advanced Topics 🌟\n",
                "\n",
                "In this section, we'll explore some advanced topics related to lists, tuples, and sets, including splitting and joining strings, list copying, list unpacking, list slicing, and performance considerations."
            ]
        },
        {
            "cell_type": "markdown",
            "metadata": {},
            "source": [
                "## Splitting Strings into Lists\n",
                "\n",
                "The `.split()` method divides a string into a list of substrings based on a specified separator. By default, it splits using whitespace as the separator, making it incredibly useful for processing text data or CSV strings."
            ]
        },
        {
            "cell_type": "code",
            "execution_count": 72,
            "metadata": {},
            "outputs": [
                {
                    "name": "stdout",
                    "output_type": "stream",
                    "text": [
                        "['Python', 'is', 'awesome']\n"
                    ]
                }
            ],
            "source": [
                "# Splitting a string by spaces\n",
                "sentence = \"Python is awesome\"\n",
                "words = sentence.split()\n",
                "print(words)"
            ]
        },
        {
            "cell_type": "code",
            "execution_count": 73,
            "metadata": {},
            "outputs": [
                {
                    "name": "stdout",
                    "output_type": "stream",
                    "text": [
                        "['apple', 'banana', 'cherry']\n"
                    ]
                }
            ],
            "source": [
                "# Splitting a string by commas\n",
                "csv_data = \"apple,banana,cherry\"\n",
                "fruits = csv_data.split(',')\n",
                "print(fruits)\n"
            ]
        },
        {
            "cell_type": "code",
            "execution_count": 74,
            "metadata": {},
            "outputs": [
                {
                    "name": "stdout",
                    "output_type": "stream",
                    "text": [
                        "['name:john', 'age:30', 'city:new york']\n"
                    ]
                }
            ],
            "source": [
                "# Splitting a string by a custom delimiter\n",
                "data = \"name:john,age:30,city:new york\"\n",
                "items = data.split(',')\n",
                "print(items)"
            ]
        },
        {
            "cell_type": "markdown",
            "metadata": {},
            "source": [
                "## Using `map` to Convert Strings to Integers in Lists\n",
                "\n",
                "The `map()` function in Python is a powerful built-in utility that applies a specified function to each item in an iterable (like a list, tuple, etc.) and returns an iterator. This feature is commonly utilized for type conversion and applying transformations to list elements.\n"
            ]
        },
        {
            "cell_type": "code",
            "execution_count": null,
            "metadata": {},
            "outputs": [],
            "source": [
                "numbers = list(map(int, input(\"Enter some numbers: \").split()))"
            ]
        },
        {
            "cell_type": "markdown",
            "metadata": {},
            "source": [
                "### Step-by-Step Explanation\n",
                "\n",
                "#### Input Collection\n",
                "- `input(\"Enter some numbers: \")`: This function prompts the user to enter some numbers. The user's input is expected to be a string of numbers separated by spaces, for example, \"1 2 3 4\".\n",
                "\n",
                "#### Splitting the Input\n",
                "- `.split()`: This method is called on the string of numbers. It splits the string into a list of substrings wherever there are spaces. For instance, the string \"1 2 3 4\" becomes `['1', '2', '3', '4']`.\n",
                "\n",
                "#### Conversion to Integer\n",
                "- `map(int, ...)`: Here, `map` is used to apply the `int` function to each element of the list `['1', '2', '3', '4']`. The `int` function converts each string element to an integer.\n",
                "\n",
                "#### Result\n",
                "- The result of `map()` is a map object which is an iterator over the integers. To see the numbers as a list, you can convert the map object to a list using `list(numbers)`."
            ]
        },
        {
            "cell_type": "markdown",
            "metadata": {},
            "source": [
                "## Joining Lists into Strings\n",
                "\n",
                "Conversely, `.join()` is a string method that concatenates the elements of a list into a single string, with each element separated by the string it's called on. This is particularly handy when you have a list of strings that you wish to output as a CSV line or a space-separated sentence."
            ]
        },
        {
            "cell_type": "code",
            "execution_count": 75,
            "metadata": {},
            "outputs": [
                {
                    "name": "stdout",
                    "output_type": "stream",
                    "text": [
                        "Python is awesome\n"
                    ]
                }
            ],
            "source": [
                "# Joining a list into a sentence\n",
                "sentence = ' '.join(words)\n",
                "print(sentence)"
            ]
        },
        {
            "cell_type": "code",
            "execution_count": 76,
            "metadata": {},
            "outputs": [
                {
                    "name": "stdout",
                    "output_type": "stream",
                    "text": [
                        "apple,banana,cherry\n"
                    ]
                }
            ],
            "source": [
                "# Joining a list into CSV format\n",
                "csv_data = ','.join(fruits)\n",
                "print(csv_data)"
            ]
        },
        {
            "cell_type": "markdown",
            "metadata": {},
            "source": [
                "## Shallow vs. Deep Copying\n",
                "\n",
                "Understanding the difference between shallow and deep copies is crucial when working with lists, especially nested lists. A shallow copy creates a new list, but the elements are references to the objects found in the original. A deep copy, on the other hand, creates a new list and recursively adds copies of the objects found in the original."
            ]
        },
        {
            "cell_type": "code",
            "execution_count": 79,
            "metadata": {},
            "outputs": [
                {
                    "name": "stdout",
                    "output_type": "stream",
                    "text": [
                        "[['changed', 2], [3, 4]]\n"
                    ]
                }
            ],
            "source": [
                "import copy\n",
                "\n",
                "# Shallow copy example\n",
                "original_list = [[1, 2], [3, 4]]\n",
                "shallow_copied_list = original_list[:]\n",
                "shallow_copied_list[0][0] = 'changed'\n",
                "print(original_list)  # The original list is affected"
            ]
        },
        {
            "cell_type": "code",
            "execution_count": 78,
            "metadata": {},
            "outputs": [
                {
                    "name": "stdout",
                    "output_type": "stream",
                    "text": [
                        "[['changed', 2], [3, 4]]\n"
                    ]
                }
            ],
            "source": [
                "# Deep copy example\n",
                "deep_copied_list = copy.deepcopy(original_list)\n",
                "deep_copied_list[0][0] = 'unchanged'\n",
                "print(original_list)  # The original list remains unchanged"
            ]
        },
        {
            "cell_type": "markdown",
            "metadata": {},
            "source": [
                "## Using the `*` Operator for Unpacking\n",
                "\n",
                "List unpacking allows you to assign elements of a list to multiple variables in a single line of code. The `*` operator can be used to unpack the remaining list elements into another list.\n"
            ]
        },
        {
            "cell_type": "code",
            "execution_count": 80,
            "metadata": {},
            "outputs": [
                {
                    "name": "stdout",
                    "output_type": "stream",
                    "text": [
                        "1\n",
                        "[2, 3, 4]\n",
                        "5\n"
                    ]
                }
            ],
            "source": [
                "# Unpacking list elements into variables\n",
                "first, *middle, last = [1, 2, 3, 4, 5]\n",
                "print(first)    # Outputs 1\n",
                "print(middle)   # Outputs [2, 3, 4]\n",
                "print(last)     # Outputs 5"
            ]
        },
        {
            "cell_type": "markdown",
            "metadata": {},
            "source": [
                "The second line of the code can be read as: \"Assign the first element to `first`, the last element to `last`, and all the remaining elements to `middle` as a list.\""
            ]
        },
        {
            "cell_type": "markdown",
            "metadata": {},
            "source": [
                "## Accessing Subparts of Lists\n",
                "\n",
                "List slicing is a feature that allows you to access a subset of a list's elements. You can specify a start index, an end index, and even a step.\n"
            ]
        },
        {
            "cell_type": "code",
            "execution_count": 81,
            "metadata": {},
            "outputs": [
                {
                    "name": "stdout",
                    "output_type": "stream",
                    "text": [
                        "[2, 3, 4]\n"
                    ]
                }
            ],
            "source": [
                "# Slicing elements from a list\n",
                "numbers = [0, 1, 2, 3, 4, 5, 6, 7, 8, 9]\n",
                "slice_of_numbers = numbers[2:5]\n",
                "print(slice_of_numbers)  # Outputs [2, 3, 4]"
            ]
        },
        {
            "cell_type": "markdown",
            "metadata": {},
            "source": [
                "## List vs. Tuple vs. Set\n",
                "\n",
                "Lists, tuples, and sets each have unique characteristics. Lists are mutable and ordered, tuples are immutable and ordered, and sets are mutable but unordered and cannot have duplicate elements."
            ]
        },
        {
            "cell_type": "code",
            "execution_count": 83,
            "metadata": {},
            "outputs": [],
            "source": [
                "# Demonstrating lists, tuples, and sets\n",
                "a_list = [1, 2, 3]\n",
                "a_tuple = (1, 2, 3)\n",
                "a_set = {1, 2, 3}"
            ]
        },
        {
            "cell_type": "code",
            "execution_count": 84,
            "metadata": {},
            "outputs": [
                {
                    "name": "stdout",
                    "output_type": "stream",
                    "text": [
                        "[0, 2, 3]\n"
                    ]
                }
            ],
            "source": [
                "# Trying to change an element (works for lists and sets, not for tuples)\n",
                "a_list[0] = 0\n",
                "print(a_list)  # Outputs [0, 2, 3]"
            ]
        },
        {
            "cell_type": "code",
            "execution_count": 85,
            "metadata": {},
            "outputs": [
                {
                    "name": "stdout",
                    "output_type": "stream",
                    "text": [
                        "{1, 2, 3, 4}\n"
                    ]
                }
            ],
            "source": [
                "a_set.add(4)\n",
                "print(a_set)  # Outputs {1, 2, 3, 4}"
            ]
        },
        {
            "cell_type": "code",
            "execution_count": 86,
            "metadata": {},
            "outputs": [
                {
                    "ename": "TypeError",
                    "evalue": "'tuple' object does not support item assignment",
                    "output_type": "error",
                    "traceback": [
                        "\u001b[0;31m---------------------------------------------------------------------------\u001b[0m",
                        "\u001b[0;31mTypeError\u001b[0m                                 Traceback (most recent call last)",
                        "Cell \u001b[0;32mIn[86], line 1\u001b[0m\n\u001b[0;32m----> 1\u001b[0m \u001b[43ma_tuple\u001b[49m\u001b[43m[\u001b[49m\u001b[38;5;241;43m0\u001b[39;49m\u001b[43m]\u001b[49m \u001b[38;5;241m=\u001b[39m \u001b[38;5;241m0\u001b[39m  \u001b[38;5;66;03m# This would raise an error\u001b[39;00m\n",
                        "\u001b[0;31mTypeError\u001b[0m: 'tuple' object does not support item assignment"
                    ]
                }
            ],
            "source": [
                "a_tuple[0] = 0  # This would raise an error"
            ]
        },
        {
            "cell_type": "markdown",
            "metadata": {},
            "source": [
                "## Performance Considerations\n",
                "\n",
                "When working with lists, tuples, and sets, it's important to choose the right data structure for the task at hand, as each has different performance implications. For example, lists are great for ordered collections that need to change, but tuples are more memory-efficient for fixed collections. Sets are optimized for fast membership testing and eliminating duplicates but do not preserve order."
            ]
        },
        {
            "cell_type": "code",
            "execution_count": 88,
            "metadata": {},
            "outputs": [
                {
                    "name": "stdout",
                    "output_type": "stream",
                    "text": [
                        "List creation time: 0.0558304569858592\n",
                        "Tuple creation time: 0.01358732400694862\n"
                    ]
                }
            ],
            "source": [
                "# Measuring the performance of list vs. tuple creation\n",
                "import timeit\n",
                "\n",
                "list_creation_time = timeit.timeit(stmt=\"[1, 2, 3, 4, 5]\", number=1000000)\n",
                "tuple_creation_time = timeit.timeit(stmt=\"(1, 2, 3, 4, 5)\", number=1000000)\n",
                "\n",
                "print(f\"List creation time: {list_creation_time}\")\n",
                "print(f\"Tuple creation time: {tuple_creation_time}\")"
            ]
        },
        {
            "cell_type": "code",
            "execution_count": 89,
            "metadata": {},
            "outputs": [
                {
                    "name": "stdout",
                    "output_type": "stream",
                    "text": [
                        "List membership test time: 1.0255856610019691\n",
                        "Set membership test time: 0.005209116003243253\n"
                    ]
                }
            ],
            "source": [
                "# Measuring the performance of membership testing in list vs. set\n",
                "large_list = list(range(1000))\n",
                "large_set = set(range(1000))\n",
                "\n",
                "list_test_time = timeit.timeit(stmt=\"999 in large_list\", globals=globals(), number=100000)\n",
                "set_test_time = timeit.timeit(stmt=\"999 in large_set\", globals=globals(), number=100000)\n",
                "\n",
                "print(f\"List membership test time: {list_test_time}\")\n",
                "print(f\"Set membership test time: {set_test_time}\")"
            ]
        },
        {
            "cell_type": "markdown",
            "metadata": {},
            "source": [
                "# Conclusion 🌟\n",
                "\n",
                "This module has provided a comprehensive overview of lists, tuples, and sets in Python, including their creation, manipulation, and advanced features. You've learned how to create and access lists, modify and organize their elements, and search within them. You've also explored the immutability of tuples, the unique properties of sets, and the power of nested lists and list comprehension.\n",
                "\n",
                "In the next module, we'll explore dictionaries, a versatile and powerful data structure in Python that allows you to store key-value pairs. We'll also cover advanced topics like dictionary comprehension, nested dictionaries, and performance considerations.\n",
                "\n",
                "I hope you enjoyed this module and found it helpful. If you have any questions or feedback, please feel free to reach out. Happy learning! 🌟"
            ]
        },
        {
            "cell_type": "markdown",
            "metadata": {},
            "source": [
                "\n",
                "# References 📚\n",
                "\n",
                "- [Python Documentation on Lists](https://docs.python.org/3/tutorial/datastructures.html)"
            ]
        }
    ],
    "metadata": {
        "kernelspec": {
            "display_name": "Python 3",
            "language": "python",
            "name": "python3"
        },
        "language_info": {
            "codemirror_mode": {
                "name": "ipython",
                "version": 3
            },
            "file_extension": ".py",
            "mimetype": "text/x-python",
            "name": "python",
            "nbconvert_exporter": "python",
            "pygments_lexer": "ipython3",
            "version": "3.11.5"
        }
    },
    "nbformat": 4,
    "nbformat_minor": 4
}
